{
 "cells": [
  {
   "cell_type": "markdown",
   "id": "2f4d0676",
   "metadata": {},
   "source": [
    "**TP ESTRUCTURAS REPETITIVAS**"
   ]
  },
  {
   "cell_type": "markdown",
   "id": "6ff482b5",
   "metadata": {},
   "source": [
    "```python\n",
    "Ejercicio 1:\n",
    "```\n",
    "Crea un programa que imprima en pantalla todos los números enteros desde 0 hasta 100\n",
    "(incluyendo ambos extremos), en orden creciente, mostrando un número por línea."
   ]
  },
  {
   "cell_type": "code",
   "execution_count": null,
   "id": "3bebd16b",
   "metadata": {},
   "outputs": [],
   "source": [
    "for i in range (101): #Asignamos el rango correcto\n",
    "    print (i) #Imprimimos los números solicitados"
   ]
  },
  {
   "cell_type": "markdown",
   "id": "43c5f031",
   "metadata": {},
   "source": [
    "```python\n",
    "Ejercicio 2:\n",
    "```\n",
    "Desarrolla un programa que solicite al usuario un número entero y determine la cantidad de\n",
    "dígitos que contiene."
   ]
  },
  {
   "cell_type": "code",
   "execution_count": null,
   "id": "d12eae14",
   "metadata": {},
   "outputs": [],
   "source": [
    "numero = input(\"Introduce un número entero: \") #Solicitar número entero\n",
    "cantidad_digitos = len(numero) #Variable para contar los dígitos\n",
    "print(f\"El número {numero} tiene {cantidad_digitos} dígitos.\") #Imprimir el número de dígitos"
   ]
  },
  {
   "cell_type": "markdown",
   "id": "efe40bd9",
   "metadata": {},
   "source": [
    "```python\n",
    "Ejercicio 3:\n",
    "```\n",
    "Escribe un programa que sume todos los números enteros comprendidos entre dos valores\n",
    "dados por el usuario, excluyendo esos dos valores."
   ]
  },
  {
   "cell_type": "code",
   "execution_count": null,
   "id": "22bada9d",
   "metadata": {},
   "outputs": [],
   "source": [
    "primero = int(input(\"Introduce el primer número entero: \")) #Solicitar el ingreso del primer número entero\n",
    "ultimo = int(input(\"Introduce el segundo número entero: \")) #Solicitar el ingreso del segundo número\n",
    "\n",
    "# Asegurar que primero sea menor que ultimo, los intercambia de ser necesario\n",
    "if primero > ultimo:\n",
    "    primero, ultimo = primero, ultimo\n",
    "\n",
    "suma = sum(range(primero + 1, ultimo)) #Generar los números comprendidos entre los valores ingresados\n",
    "print(f\"La suma de los números entre {primero} y {ultimo}, excluyendo los extremos, es {suma}.\") #Imprimir la suma de los números comprendidos entre los valores"
   ]
  },
  {
   "cell_type": "markdown",
   "id": "da8d6c71",
   "metadata": {},
   "source": [
    "```\n",
    "Ejercicio 4:\n",
    "```\n",
    "Elabora un programa que permita al usuario ingresar números enteros y los sume en\n",
    "secuencia. El programa debe detenerse y mostrar el total acumulado cuando el usuario ingrese\n",
    "un 0."
   ]
  },
  {
   "cell_type": "code",
   "execution_count": null,
   "id": "5262df03",
   "metadata": {},
   "outputs": [],
   "source": [
    "suma_total = 0 #Iniciamos la variable acumuladora\n",
    "\n",
    "while True:\n",
    "    numero = int(input(\"Introduce un número entero (0 para finalizar): \"))\n",
    "    if numero == 0: #Condición para detener el bucle\n",
    "        break\n",
    "    suma_total += numero #Sumar el número al total acumulado\n",
    "\n",
    "print(f\"La suma total de los números ingresados es {suma_total}.\") #Imprimir el acumulado\n"
   ]
  },
  {
   "cell_type": "markdown",
   "id": "d65c5bc9",
   "metadata": {},
   "source": [
    "```python\n",
    "Ejercicio 5:\n",
    "```\n",
    "Crea un juego en el que el usuario deba adivinar un número aleatorio entre 0 y 9. Al final, el\n",
    "programa debe mostrar cuántos intentos fueron necesarios para acertar el número."
   ]
  },
  {
   "cell_type": "code",
   "execution_count": null,
   "id": "0f142c9c",
   "metadata": {},
   "outputs": [],
   "source": [
    "import random\n",
    "\n",
    "numero_secreto = random.randint(0, 9)  # Genera un número aleatorio entre 0 y 9\n",
    "intentos = 0\n",
    "\n",
    "while True:\n",
    "    intento = int(input(\"Adivina el número (entre 0 y 9): \")) #Se solicita el ingreso de números al azar entre el 0 y el 9 hasta acertar\n",
    "    intentos += 1 #Contador para el número de intentos\n",
    "\n",
    "    if intento == numero_secreto: #Condición verdadera\n",
    "        print(f\"¡Correcto! Adivinaste el número {numero_secreto} en {intentos} intentos.\") #Mensaje a imprimir si se ha acertado\n",
    "        break #Obligamos a que el bucle se detenga porque ya se encontró el número secreto\n",
    "    else:\n",
    "        print(\"Incorrecto, intenta nuevamente.\") #Sino solicitamos los intentos que sean necesarios hasta acertar"
   ]
  },
  {
   "cell_type": "markdown",
   "id": "6c7a6ae7",
   "metadata": {},
   "source": [
    "```python\n",
    "Ejercicio 6:\n",
    "```\n",
    "Desarrolla un programa que imprima en pantalla todos los números pares comprendidos\n",
    "entre 0 y 100, en orden decreciente."
   ]
  },
  {
   "cell_type": "code",
   "execution_count": null,
   "id": "66025132",
   "metadata": {},
   "outputs": [],
   "source": [
    "for i in range(100, -1, -2): #Colocamos rango de inicio, forma de avance y rango final\n",
    "    print(i) #Imprimimos los números que se solicitaron"
   ]
  },
  {
   "cell_type": "markdown",
   "id": "e5174c1b",
   "metadata": {},
   "source": [
    "```python\n",
    "Ejercicio 7:\n",
    "```\n",
    "Crea un programa que calcule la suma de todos los números comprendidos entre 0 y un\n",
    "número entero positivo indicado por el usuario."
   ]
  },
  {
   "cell_type": "code",
   "execution_count": null,
   "id": "e38623d3",
   "metadata": {},
   "outputs": [],
   "source": [
    "numero = int(input(\"Introduce un número entero positivo: \")) #Se guarda el número positivo  ingresado en la variable número\n",
    "\n",
    "if numero < 0: #Se corrobora que no sea negativo\n",
    "    print(\"Por favor, introduce un número positivo.\") #De lo contrario se solicita nuevamente un número positivo\n",
    "else:\n",
    "    suma_total = sum(range(numero + 1)) #Se coloca el rango para sumar los números comprendidos entre 0 y el número que se ingresó (incluido)\n",
    "    print(f\"La suma de los números desde 0 hasta {numero} es {suma_total}.\") #Se imprime el valor de la suma"
   ]
  },
  {
   "cell_type": "markdown",
   "id": "dda319dd",
   "metadata": {},
   "source": [
    "```python\n",
    "Ejercicio 8\n",
    "```\n",
    "Escribe un programa que permita al usuario ingresar 100 números enteros. Luego, el\n",
    "programa debe indicar cuántos de estos números son pares, cuántos son impares, cuántos son\n",
    "negativos y cuántos son positivos. (Nota: para probar el programa puedes usar una cantidad\n",
    "menor, pero debe estar preparado para procesar 100 números con un solo cambio)."
   ]
  },
  {
   "cell_type": "code",
   "execution_count": null,
   "id": "98f98744",
   "metadata": {},
   "outputs": [],
   "source": [
    "# Se ingresa la cantidad máxima de números a ingresar en la variable con dicho nombre\n",
    "cantidad_numeros = 100\n",
    "\n",
    "#Inicializamos las variables que nos servirán de contador\n",
    "pares = 0\n",
    "impares = 0\n",
    "positivos = 0\n",
    "negativos = 0\n",
    "\n",
    "print(f\"Ingresa {cantidad_numeros} números enteros:\") #Se solicita ingresar los números\n",
    "\n",
    "for i in range(cantidad_numeros): #Se coloca el rango de 0 a 100\n",
    "    numero = int(input(f\"Ingresa el número {i + 1}: \"))  # Se solicita cada número\n",
    "\n",
    "#Verificamos si es positivo o negativo\n",
    "    if numero > 0:\n",
    "        positivos += 1\n",
    "    elif numero < 0:\n",
    "        negativos += 1\n",
    "\n",
    "    # Verificamos si es par o impar\n",
    "    if numero % 2 == 0:\n",
    "        pares += 1\n",
    "    else:\n",
    "        impares += 1\n",
    "\n",
    "# Se imprimen los resultados\n",
    "print(f\"\\nResultados:\")\n",
    "print(f\"Cantidad de números pares: {pares}\")\n",
    "print(f\"Cantidad de números impares: {impares}\")\n",
    "print(f\"Cantidad de números positivos: {positivos}\")\n",
    "print(f\"Cantidad de números negativos: {negativos}\")"
   ]
  },
  {
   "cell_type": "markdown",
   "id": "68df8dd0",
   "metadata": {},
   "source": [
    "```python\n",
    "Ejercicio 9\n",
    "```\n",
    "Elabora un programa que permita al usuario ingresar 100 números enteros y luego calcule la\n",
    "media de esos valores. (Nota: puedes probar el programa con una cantidad menor, pero debe\n",
    "poder procesar 100 números cambiando solo un valor)."
   ]
  },
  {
   "cell_type": "code",
   "execution_count": null,
   "id": "a40d409d",
   "metadata": {},
   "outputs": [],
   "source": [
    "#Se establece la cantidad de números a ingresar\n",
    "cantidad_numeros = 100\n",
    "\n",
    "# Se inicializa la variable suma \n",
    "suma = 0\n",
    "\n",
    "# Se solicita el ingreso de los números\n",
    "print(f\"Ingresa {cantidad_numeros} números enteros:\")\n",
    "\n",
    "for i in range(cantidad_numeros): #Se coloca el rango desde 0 a 100)\n",
    "    numero = int(input(f\"Ingresa el número {i + 1}: \"))  # Se solicita cada número al usuario\n",
    "    suma += numero  # Se suma cada número ingresado \n",
    "\n",
    "# Se calcula la media de los valores \n",
    "media = suma / cantidad_numeros\n",
    "\n",
    "# Se imprime el resultado\n",
    "print(f\"\\nLa media de los números ingresados es: {media}\")"
   ]
  },
  {
   "cell_type": "markdown",
   "id": "78720c5e",
   "metadata": {},
   "source": [
    "```python\n",
    "Ejercicio 10:\n",
    "```\n",
    "Escribe un programa que invierta el orden de los dígitos de un número ingresado por el\n",
    "usuario. Ejemplo: si el usuario ingresa 547, el programa debe mostrar 745."
   ]
  },
  {
   "cell_type": "code",
   "execution_count": null,
   "id": "9c3e85fe",
   "metadata": {},
   "outputs": [],
   "source": [
    "numero = input(\"Introduce un número entero: \") #Se solicita un número entero al usuario\n",
    "numero_invertido = numero[::-1]  # Se invierte la cadena de caracteres\n",
    "print(f\"El número invertido es {numero_invertido}\") #Se imprime el número invertido"
   ]
  }
 ],
 "metadata": {
  "kernelspec": {
   "display_name": "Python 3",
   "language": "python",
   "name": "python3"
  },
  "language_info": {
   "codemirror_mode": {
    "name": "ipython",
    "version": 3
   },
   "file_extension": ".py",
   "mimetype": "text/x-python",
   "name": "python",
   "nbconvert_exporter": "python",
   "pygments_lexer": "ipython3",
   "version": "3.11.9"
  }
 },
 "nbformat": 4,
 "nbformat_minor": 5
}
